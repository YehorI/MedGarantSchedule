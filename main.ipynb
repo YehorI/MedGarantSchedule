{
 "cells": [
  {
   "cell_type": "markdown",
   "metadata": {},
   "source": [
    "Доктор принимает с 9 утра до 9 вечера.\n",
    "Часть времени у него занята: приемы, обед, уборка кабинета.\n",
    "Требуется сформировать список свободных окон по 30 минут."
   ]
  },
  {
   "cell_type": "code",
   "execution_count": 1,
   "metadata": {},
   "outputs": [],
   "source": [
    "busy = [\n",
    "{'start' : '10:30',\n",
    "'stop' : '10:50'\n",
    "},\n",
    "{'start' : '18:40',\n",
    "'stop' : '18:50'\n",
    "},\n",
    "{'start' : '14:40',\n",
    "'stop' : '15:50'\n",
    "},\n",
    "{'start' : '16:40',\n",
    "'stop' : '17:20'\n",
    "},\n",
    "{'start' : '20:05',\n",
    "'stop' : '20:20'\n",
    "}\n",
    "]"
   ]
  },
  {
   "cell_type": "code",
   "execution_count": 2,
   "metadata": {},
   "outputs": [
    {
     "data": {
      "text/plain": [
       "[TimeWindow(start=datetime.time(9, 0), end=datetime.time(9, 30)),\n",
       " TimeWindow(start=datetime.time(9, 30), end=datetime.time(10, 0)),\n",
       " TimeWindow(start=datetime.time(10, 0), end=datetime.time(10, 30)),\n",
       " TimeWindow(start=datetime.time(10, 50), end=datetime.time(11, 20)),\n",
       " TimeWindow(start=datetime.time(11, 20), end=datetime.time(11, 50)),\n",
       " TimeWindow(start=datetime.time(11, 50), end=datetime.time(12, 20)),\n",
       " TimeWindow(start=datetime.time(12, 20), end=datetime.time(12, 50)),\n",
       " TimeWindow(start=datetime.time(12, 50), end=datetime.time(13, 20)),\n",
       " TimeWindow(start=datetime.time(13, 20), end=datetime.time(13, 50)),\n",
       " TimeWindow(start=datetime.time(13, 50), end=datetime.time(14, 20)),\n",
       " TimeWindow(start=datetime.time(15, 50), end=datetime.time(16, 20)),\n",
       " TimeWindow(start=datetime.time(17, 20), end=datetime.time(17, 50)),\n",
       " TimeWindow(start=datetime.time(17, 50), end=datetime.time(18, 20)),\n",
       " TimeWindow(start=datetime.time(18, 50), end=datetime.time(19, 20)),\n",
       " TimeWindow(start=datetime.time(19, 20), end=datetime.time(19, 50)),\n",
       " TimeWindow(start=datetime.time(20, 20), end=datetime.time(20, 50))]"
      ]
     },
     "execution_count": 2,
     "metadata": {},
     "output_type": "execute_result"
    }
   ],
   "source": [
    "from datetime import datetime\n",
    "from datetime import time, timedelta\n",
    "from dataclasses import dataclass\n",
    "\n",
    "\n",
    "@dataclass\n",
    "class TimeWindow:\n",
    "    start: time\n",
    "    end: time\n",
    "\n",
    "    def __str__(self):\n",
    "        return f\"Окно с {self.start.strftime('%H:%M')} до {self.end.strftime('%H:%M')}\"\n",
    "\n",
    "\n",
    "class Schedule:\n",
    "\n",
    "    def __init__(self,\n",
    "        working_day_start: str = '9:00',\n",
    "        working_day_end: str = '21:00'\n",
    "    ):\n",
    "        self.working_day = TimeWindow(\n",
    "            start=self._str2time(working_day_start),\n",
    "            end=self._str2time(working_day_end)\n",
    "        )\n",
    "        self.half_hour_windows: list[TimeWindow] = []\n",
    "\n",
    "\n",
    "    def half_hour_windows_from_busy_time(self, busy):\n",
    "        busy_time = []\n",
    "        for period in busy:\n",
    "            busy_time.append(\n",
    "                TimeWindow(start=self._str2time(period['start']), end=self._str2time(period['stop']))\n",
    "            )\n",
    "        busy_time.sort(key=lambda period: period.start)\n",
    "        cursor = self.working_day.start\n",
    "        while cursor < self.working_day.end:\n",
    "            next_half_hour = self.add_minutes_to_time(cursor, 30)\n",
    "            if not busy_time or next_half_hour <= busy_time[0].start:\n",
    "                if next_half_hour > self.working_day.end:\n",
    "                    break\n",
    "                self.half_hour_windows.append(\n",
    "                    TimeWindow(start=cursor, end=next_half_hour)\n",
    "                )\n",
    "                cursor = next_half_hour\n",
    "            else:\n",
    "                cursor = busy_time.pop(0).end\n",
    "\n",
    "    \n",
    "    @staticmethod\n",
    "    def _str2time(str_time):\n",
    "        try:\n",
    "            return datetime.strptime(str_time, '%H:%M').time()\n",
    "        except ValueError:\n",
    "            raise ValueError(f\"Incorrect time format for {str_time}, expected '%H:%M'\")\n",
    "\n",
    "    @staticmethod\n",
    "    def add_minutes_to_time(original_time, minutes):\n",
    "        combined_datetime = datetime.combine(datetime.today(), original_time)\n",
    "\n",
    "        new_datetime = combined_datetime + timedelta(minutes=minutes)\n",
    "\n",
    "        return new_datetime.time()\n",
    "\n",
    "\n",
    "dec = Schedule()\n",
    "dec.half_hour_windows_from_busy_time(busy)\n",
    "dec.half_hour_windows\n"
   ]
  },
  {
   "cell_type": "markdown",
   "metadata": {},
   "source": [
    "# Задача 2"
   ]
  },
  {
   "cell_type": "markdown",
   "metadata": {},
   "source": [
    "Есть медленный алгоритм: перебираем список чисел и смотрим, есть ли дальше в списке текущее число.\n",
    "Надо придумать быстрый способ и проверить, что он действительно лучше."
   ]
  },
  {
   "cell_type": "code",
   "execution_count": 4,
   "metadata": {},
   "outputs": [],
   "source": [
    "import numpy as np\n",
    "\n",
    "\n",
    "numbers = list(np.random.randint(low = 1, high = 10, size = 100000))"
   ]
  },
  {
   "cell_type": "code",
   "execution_count": 10,
   "metadata": {},
   "outputs": [],
   "source": [
    "for i, number in enumerate(numbers):\n",
    "    number_is_in_tail = number in numbers[i+1:]\n",
    "\n",
    "# 10.5s"
   ]
  },
  {
   "cell_type": "markdown",
   "metadata": {},
   "source": [
    "Time complexity: (n-1) + (n-2) + ... + 1 = O(n^2) \\\n",
    "Space complexity: O(n)"
   ]
  },
  {
   "cell_type": "code",
   "execution_count": 11,
   "metadata": {},
   "outputs": [],
   "source": [
    "numbers_set = set(numbers)\n",
    "numbers_dict = {i: numbers.count(i) for i in numbers_set}\n",
    "numbers_dict\n",
    "\n",
    "for i, number in enumerate(numbers):\n",
    "    number_is_in_tail = numbers_dict[number] > 1\n",
    "    numbers_dict[number] = numbers_dict[number] - 1\n",
    "\n",
    "# 0.0s"
   ]
  },
  {
   "cell_type": "markdown",
   "metadata": {},
   "source": [
    "Time complexity: O(n^2) + O(n) = O(n^2) \\\n",
    "Space complexity: O(n)\\\n",
    "**Same but faster because of lower level**"
   ]
  },
  {
   "cell_type": "code",
   "execution_count": 13,
   "metadata": {},
   "outputs": [],
   "source": [
    "numbers_dict = {}\n",
    "for num in numbers:\n",
    "    if num in numbers_dict:\n",
    "        numbers_dict[num] += 1\n",
    "    else:\n",
    "        numbers_dict[num] = 1\n",
    "\n",
    "for i, number in enumerate(numbers):\n",
    "    number_is_in_tail = numbers_dict[number] > 1\n",
    "    numbers_dict[number] -= 1\n",
    "\n",
    "# 0.0s"
   ]
  },
  {
   "cell_type": "markdown",
   "metadata": {},
   "source": [
    "Time complexity: 2O(n) = O(n) \\\n",
    "Space complexity: O(n)\\\n",
    "**Count O(n^2), (Iteration + addition) + (enumerate) = O(n)**"
   ]
  }
 ],
 "metadata": {
  "kernelspec": {
   "display_name": "Python 3",
   "language": "python",
   "name": "python3"
  },
  "language_info": {
   "codemirror_mode": {
    "name": "ipython",
    "version": 3
   },
   "file_extension": ".py",
   "mimetype": "text/x-python",
   "name": "python",
   "nbconvert_exporter": "python",
   "pygments_lexer": "ipython3",
   "version": "3.10.8"
  }
 },
 "nbformat": 4,
 "nbformat_minor": 2
}
