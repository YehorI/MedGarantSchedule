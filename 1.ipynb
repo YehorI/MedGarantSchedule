{
 "cells": [
  {
   "cell_type": "code",
   "execution_count": 12,
   "metadata": {},
   "outputs": [
    {
     "data": {
      "text/plain": [
       "[TimeWindow(start=datetime.time(9, 0), end=datetime.time(9, 30)),\n",
       " TimeWindow(start=datetime.time(9, 30), end=datetime.time(10, 0)),\n",
       " TimeWindow(start=datetime.time(10, 0), end=datetime.time(10, 30)),\n",
       " TimeWindow(start=datetime.time(10, 50), end=datetime.time(11, 20)),\n",
       " TimeWindow(start=datetime.time(11, 20), end=datetime.time(11, 50)),\n",
       " TimeWindow(start=datetime.time(11, 50), end=datetime.time(12, 20)),\n",
       " TimeWindow(start=datetime.time(12, 20), end=datetime.time(12, 50)),\n",
       " TimeWindow(start=datetime.time(12, 50), end=datetime.time(13, 20)),\n",
       " TimeWindow(start=datetime.time(13, 20), end=datetime.time(13, 50)),\n",
       " TimeWindow(start=datetime.time(13, 50), end=datetime.time(14, 20)),\n",
       " TimeWindow(start=datetime.time(15, 50), end=datetime.time(16, 20)),\n",
       " TimeWindow(start=datetime.time(17, 20), end=datetime.time(17, 50)),\n",
       " TimeWindow(start=datetime.time(17, 50), end=datetime.time(18, 20)),\n",
       " TimeWindow(start=datetime.time(18, 50), end=datetime.time(19, 20)),\n",
       " TimeWindow(start=datetime.time(19, 20), end=datetime.time(19, 50)),\n",
       " TimeWindow(start=datetime.time(20, 20), end=datetime.time(20, 50))]"
      ]
     },
     "execution_count": 12,
     "metadata": {},
     "output_type": "execute_result"
    }
   ],
   "source": [
    "busy = [\n",
    "{'start' : '10:30',\n",
    "'stop' : '10:50'\n",
    "},\n",
    "{'start' : '18:40',\n",
    "'stop' : '18:50'\n",
    "},\n",
    "{'start' : '14:40',\n",
    "'stop' : '15:50'\n",
    "},\n",
    "{'start' : '16:40',\n",
    "'stop' : '17:20'\n",
    "},\n",
    "{'start' : '20:05',\n",
    "'stop' : '20:20'\n",
    "}\n",
    "]\n",
    "\n",
    "from datetime import datetime\n",
    "from datetime import time, timedelta\n",
    "from dataclasses import dataclass\n",
    "\n",
    "\n",
    "@dataclass\n",
    "class TimeWindow:\n",
    "    start: time\n",
    "    end: time\n",
    "\n",
    "    def __str__(self):\n",
    "        return f\"Окно с {self.start.strftime('%H:%M')} до {self.end.strftime('%H:%M')}\"\n",
    "\n",
    "\n",
    "class Schedule:\n",
    "\n",
    "    def __init__(self,\n",
    "        working_day_start: str = '9:00',\n",
    "        working_day_end: str = '21:00'\n",
    "    ):\n",
    "        self.working_day = TimeWindow(\n",
    "            start=self._str2time(working_day_start),\n",
    "            end=self._str2time(working_day_end)\n",
    "        )\n",
    "        self.half_hour_windows: list[TimeWindow] = []\n",
    "\n",
    "\n",
    "    def half_hour_windows_from_busy_time(self, busy):\n",
    "        busy_time = []\n",
    "        for period in busy:\n",
    "            busy_time.append(\n",
    "                TimeWindow(start=self._str2time(period['start']), end=self._str2time(period['stop']))\n",
    "            )\n",
    "        busy_time.sort(key=lambda period: period.start)\n",
    "        cursor = self.working_day.start\n",
    "        while cursor < self.working_day.end:\n",
    "            next_half_hour = self.add_minutes_to_time(cursor, 30)\n",
    "            if not busy_time or next_half_hour <= busy_time[0].start:\n",
    "                if next_half_hour > self.working_day.end:\n",
    "                    break\n",
    "                self.half_hour_windows.append(\n",
    "                    TimeWindow(start=cursor, end=next_half_hour)\n",
    "                )\n",
    "                cursor = next_half_hour\n",
    "            else:\n",
    "                cursor = busy_time.pop(0).end\n",
    "\n",
    "    \n",
    "    @staticmethod\n",
    "    def _str2time(str_time):\n",
    "        try:\n",
    "            return datetime.strptime(str_time, '%H:%M').time()\n",
    "        except ValueError:\n",
    "            raise ValueError(f\"Incorrect time format for {str_time}, expected '%H:%M'\")\n",
    "\n",
    "    @staticmethod\n",
    "    def add_minutes_to_time(original_time, minutes):\n",
    "        combined_datetime = datetime.combine(datetime.today(), original_time)\n",
    "\n",
    "        new_datetime = combined_datetime + timedelta(minutes=minutes)\n",
    "\n",
    "        return new_datetime.time()\n",
    "\n",
    "\n",
    "dec = Schedule()\n",
    "dec.half_hour_windows_from_busy_time(busy)\n",
    "dec.half_hour_windows\n"
   ]
  },
  {
   "cell_type": "code",
   "execution_count": 43,
   "metadata": {},
   "outputs": [
    {
     "ename": "ValueError",
     "evalue": "Incorrect time format for 1, expected '%H:%M'",
     "output_type": "error",
     "traceback": [
      "\u001b[1;31m---------------------------------------------------------------------------\u001b[0m",
      "\u001b[1;31mValueError\u001b[0m                                Traceback (most recent call last)",
      "\u001b[1;32mUntitled-1.ipynb Cell 2\u001b[0m line \u001b[0;36m2\n\u001b[0;32m      <a href='vscode-notebook-cell:Untitled-1.ipynb?jupyter-notebook#W1sdW50aXRsZWQ%3D?line=0'>1</a>\u001b[0m \u001b[39mtry\u001b[39;00m:\n\u001b[1;32m----> <a href='vscode-notebook-cell:Untitled-1.ipynb?jupyter-notebook#W1sdW50aXRsZWQ%3D?line=1'>2</a>\u001b[0m     \u001b[39mprint\u001b[39m(datetime\u001b[39m.\u001b[39;49mstrptime(\u001b[39m'\u001b[39;49m\u001b[39m20:\u001b[39;49m\u001b[39m'\u001b[39;49m, \u001b[39m'\u001b[39;49m\u001b[39m%\u001b[39;49m\u001b[39mH:\u001b[39;49m\u001b[39m%\u001b[39;49m\u001b[39mM\u001b[39;49m\u001b[39m'\u001b[39;49m)\u001b[39m.\u001b[39mtime())\n\u001b[0;32m      <a href='vscode-notebook-cell:Untitled-1.ipynb?jupyter-notebook#W1sdW50aXRsZWQ%3D?line=2'>3</a>\u001b[0m \u001b[39mexcept\u001b[39;00m \u001b[39mValueError\u001b[39;00m:\n",
      "File \u001b[1;32mc:\\Users\\skyla\\AppData\\Local\\Programs\\Python\\Python312\\Lib\\_strptime.py:555\u001b[0m, in \u001b[0;36m_strptime_datetime\u001b[1;34m(cls, data_string, format)\u001b[0m\n\u001b[0;32m    553\u001b[0m \u001b[39m\u001b[39m\u001b[39m\"\"\"Return a class cls instance based on the input string and the\u001b[39;00m\n\u001b[0;32m    554\u001b[0m \u001b[39mformat string.\"\"\"\u001b[39;00m\n\u001b[1;32m--> 555\u001b[0m tt, fraction, gmtoff_fraction \u001b[39m=\u001b[39m _strptime(data_string, \u001b[39mformat\u001b[39;49m)\n\u001b[0;32m    556\u001b[0m tzname, gmtoff \u001b[39m=\u001b[39m tt[\u001b[39m-\u001b[39m\u001b[39m2\u001b[39m:]\n",
      "File \u001b[1;32mc:\\Users\\skyla\\AppData\\Local\\Programs\\Python\\Python312\\Lib\\_strptime.py:333\u001b[0m, in \u001b[0;36m_strptime\u001b[1;34m(data_string, format)\u001b[0m\n\u001b[0;32m    332\u001b[0m \u001b[39mif\u001b[39;00m \u001b[39mnot\u001b[39;00m found:\n\u001b[1;32m--> 333\u001b[0m     \u001b[39mraise\u001b[39;00m \u001b[39mValueError\u001b[39;00m(\u001b[39m\"\u001b[39m\u001b[39mtime data \u001b[39m\u001b[39m%r\u001b[39;00m\u001b[39m does not match format \u001b[39m\u001b[39m%r\u001b[39;00m\u001b[39m\"\u001b[39m \u001b[39m%\u001b[39m\n\u001b[0;32m    334\u001b[0m                      (data_string, \u001b[39mformat\u001b[39m))\n\u001b[0;32m    335\u001b[0m \u001b[39mif\u001b[39;00m \u001b[39mlen\u001b[39m(data_string) \u001b[39m!=\u001b[39m found\u001b[39m.\u001b[39mend():\n",
      "\u001b[1;31mValueError\u001b[0m: time data '20:' does not match format '%H:%M'",
      "\nDuring handling of the above exception, another exception occurred:\n",
      "\u001b[1;31mValueError\u001b[0m                                Traceback (most recent call last)",
      "\u001b[1;32mUntitled-1.ipynb Cell 2\u001b[0m line \u001b[0;36m4\n\u001b[0;32m      <a href='vscode-notebook-cell:Untitled-1.ipynb?jupyter-notebook#W1sdW50aXRsZWQ%3D?line=1'>2</a>\u001b[0m     \u001b[39mprint\u001b[39m(datetime\u001b[39m.\u001b[39mstrptime(\u001b[39m'\u001b[39m\u001b[39m20:\u001b[39m\u001b[39m'\u001b[39m, \u001b[39m'\u001b[39m\u001b[39m%\u001b[39m\u001b[39mH:\u001b[39m\u001b[39m%\u001b[39m\u001b[39mM\u001b[39m\u001b[39m'\u001b[39m)\u001b[39m.\u001b[39mtime())\n\u001b[0;32m      <a href='vscode-notebook-cell:Untitled-1.ipynb?jupyter-notebook#W1sdW50aXRsZWQ%3D?line=2'>3</a>\u001b[0m \u001b[39mexcept\u001b[39;00m \u001b[39mValueError\u001b[39;00m:\n\u001b[1;32m----> <a href='vscode-notebook-cell:Untitled-1.ipynb?jupyter-notebook#W1sdW50aXRsZWQ%3D?line=3'>4</a>\u001b[0m     \u001b[39mraise\u001b[39;00m \u001b[39mValueError\u001b[39;00m(\u001b[39mf\u001b[39m\u001b[39m\"\u001b[39m\u001b[39mIncorrect time format for 1, expected \u001b[39m\u001b[39m'\u001b[39m\u001b[39m%H:%M\u001b[39m\u001b[39m'\u001b[39m\u001b[39m\"\u001b[39m)\n",
      "\u001b[1;31mValueError\u001b[0m: Incorrect time format for 1, expected '%H:%M'"
     ]
    }
   ],
   "source": [
    "try:\n",
    "    print(datetime.strptime('20:', '%H:%M').time())\n",
    "except ValueError:\n",
    "    raise ValueError(f\"Incorrect time format for 1, expected '%H:%M'\")"
   ]
  },
  {
   "cell_type": "code",
   "execution_count": 47,
   "metadata": {},
   "outputs": [
    {
     "data": {
      "text/plain": [
       "'Окно с 20:20 до 20:20'"
      ]
     },
     "execution_count": 47,
     "metadata": {},
     "output_type": "execute_result"
    }
   ],
   "source": [
    "a = TimeWindow(datetime.strptime(\"20:20\", \"%H:%M\").time(), datetime.strptime(\"20:20\", \"%H:%M\").time())\n",
    "str(a)"
   ]
  },
  {
   "cell_type": "code",
   "execution_count": 58,
   "metadata": {},
   "outputs": [
    {
     "ename": "TypeError",
     "evalue": "unsupported type for timedelta seconds component: datetime.time",
     "output_type": "error",
     "traceback": [
      "\u001b[1;31m---------------------------------------------------------------------------\u001b[0m",
      "\u001b[1;31mTypeError\u001b[0m                                 Traceback (most recent call last)",
      "\u001b[1;32mUntitled-1.ipynb Cell 4\u001b[0m line \u001b[0;36m1\n\u001b[1;32m----> <a href='vscode-notebook-cell:Untitled-1.ipynb?jupyter-notebook#W4sdW50aXRsZWQ%3D?line=0'>1</a>\u001b[0m timedelta(a\u001b[39m.\u001b[39;49mstart, a\u001b[39m.\u001b[39;49mend)\n",
      "\u001b[1;31mTypeError\u001b[0m: unsupported type for timedelta seconds component: datetime.time"
     ]
    }
   ],
   "source": [
    "timedelta(a.start, a.end)"
   ]
  },
  {
   "cell_type": "code",
   "execution_count": 59,
   "metadata": {},
   "outputs": [
    {
     "data": {
      "text/plain": [
       "1"
      ]
     },
     "execution_count": 59,
     "metadata": {},
     "output_type": "execute_result"
    }
   ],
   "source": [
    "a = [1, 3, 2]\n",
    "a.sort()\n",
    "a.pop(0)"
   ]
  }
 ],
 "metadata": {
  "kernelspec": {
   "display_name": "Python 3",
   "language": "python",
   "name": "python3"
  },
  "language_info": {
   "codemirror_mode": {
    "name": "ipython",
    "version": 3
   },
   "file_extension": ".py",
   "mimetype": "text/x-python",
   "name": "python",
   "nbconvert_exporter": "python",
   "pygments_lexer": "ipython3",
   "version": "3.12.0"
  }
 },
 "nbformat": 4,
 "nbformat_minor": 2
}
